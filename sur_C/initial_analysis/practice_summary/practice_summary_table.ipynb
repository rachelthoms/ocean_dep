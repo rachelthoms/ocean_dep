{
 "cells": [
  {
   "cell_type": "markdown",
   "metadata": {},
   "source": [
    "# Summary statistic for fishing practices\n",
    "The purpose of this notebook is to create a table with the median values for hours spend fishing, days per tide, and daily capture for each fishing gear/practice"
   ]
  },
  {
   "cell_type": "code",
   "execution_count": 1,
   "metadata": {},
   "outputs": [],
   "source": [
    "# load packages\n",
    "import pandas as pd\n",
    "import matplotlib.pyplot as plt \n",
    "import numpy as np\n",
    "from zipfile import ZipFile\n",
    "import os\n",
    "import seaborn as sns\n",
    "pd.options.mode.chained_assignment = None"
   ]
  },
  {
   "cell_type": "code",
   "execution_count": 2,
   "metadata": {},
   "outputs": [
    {
     "data": {
      "text/plain": [
       "Index(['Unnamed: 0', 'id', 'date', 'ccp', 'gender', 'age', 'birth_place',\n",
       "       'mar_status', 'ed_level', 'house_head', 'glean', 'electricity',\n",
       "       'fridge_freezer', 'fridge_freezer_num', 'water', 'matress',\n",
       "       'matress_num', 'mobile_phone', 'mobile_phone_num', 'smart_phone',\n",
       "       'smart_phone_num', 'fan', 'fan_num', 'tv', 'tv_num', 'radio',\n",
       "       'radio_num', 'stove', 'stove_num', 'transport', 'transport_num',\n",
       "       'floor', 'floor_other', 'wall', 'wall_other', 'roof', 'roof_other',\n",
       "       'access_credit_loans', 'community_participation', 'ccp_member',\n",
       "       'ccp_participation', 'decision_making_manag', 'decision_making_fish',\n",
       "       'change_seagrass', 'direction_change_seagrass',\n",
       "       'causes_change_seagrass', 'change_fish', 'direction_change_resources',\n",
       "       'causes_change_resources', 'link_seagrass_resources',\n",
       "       'capacity_change_practice', 'capacity_change_livelihood',\n",
       "       'capacity_organize', 'local_knowledge', 'agency_change_seagrass',\n",
       "       'agency_change_seagrass_other', 'agency_change_capture',\n",
       "       'agency_change_capture_other', 'action_seagrass',\n",
       "       'action_seagrass_other', 'human_mang_seagrass', 'action_capture',\n",
       "       'action_capture_other', 'human_mang_capture', 'gear', 'hours',\n",
       "       'cap_daily_total', 'value', 'persons', 'pract_cat', 'cpue'],\n",
       "      dtype='object')"
      ]
     },
     "execution_count": 2,
     "metadata": {},
     "output_type": "execute_result"
    }
   ],
   "source": [
    "# load the survey table\n",
    "df_path = '/home/rthoms/ocean_dep/sur_C/adaptive_cap_clean.csv'\n",
    "df = pd.read_csv(df_path)\n",
    "df.columns"
   ]
  },
  {
   "cell_type": "code",
   "execution_count": 12,
   "metadata": {},
   "outputs": [],
   "source": [
    "df_gear_sum= df.groupby(['gear']).agg({'id':'count', 'cap_daily_total': 'mean', 'hours':'mean', 'persons':'mean', 'value':'mean','cpue':'mean'})"
   ]
  },
  {
   "cell_type": "code",
   "execution_count": 13,
   "metadata": {},
   "outputs": [
    {
     "data": {
      "text/html": [
       "<div>\n",
       "<style scoped>\n",
       "    .dataframe tbody tr th:only-of-type {\n",
       "        vertical-align: middle;\n",
       "    }\n",
       "\n",
       "    .dataframe tbody tr th {\n",
       "        vertical-align: top;\n",
       "    }\n",
       "\n",
       "    .dataframe thead th {\n",
       "        text-align: right;\n",
       "    }\n",
       "</style>\n",
       "<table border=\"1\" class=\"dataframe\">\n",
       "  <thead>\n",
       "    <tr style=\"text-align: right;\">\n",
       "      <th></th>\n",
       "      <th>id</th>\n",
       "      <th>cap_daily_total</th>\n",
       "      <th>hours</th>\n",
       "      <th>persons</th>\n",
       "      <th>value</th>\n",
       "      <th>cpue</th>\n",
       "    </tr>\n",
       "    <tr>\n",
       "      <th>gear</th>\n",
       "      <th></th>\n",
       "      <th></th>\n",
       "      <th></th>\n",
       "      <th></th>\n",
       "      <th></th>\n",
       "      <th></th>\n",
       "    </tr>\n",
       "  </thead>\n",
       "  <tbody>\n",
       "    <tr>\n",
       "      <th>basket_trap</th>\n",
       "      <td>2</td>\n",
       "      <td>3.500000</td>\n",
       "      <td>2.250000</td>\n",
       "      <td>NaN</td>\n",
       "      <td>550.000000</td>\n",
       "      <td>1.666667</td>\n",
       "    </tr>\n",
       "    <tr>\n",
       "      <th>diving</th>\n",
       "      <td>1</td>\n",
       "      <td>6.000000</td>\n",
       "      <td>3.000000</td>\n",
       "      <td>NaN</td>\n",
       "      <td>300.000000</td>\n",
       "      <td>2.000000</td>\n",
       "    </tr>\n",
       "    <tr>\n",
       "      <th>drag_net</th>\n",
       "      <td>4</td>\n",
       "      <td>57.500000</td>\n",
       "      <td>5.250000</td>\n",
       "      <td>11.500000</td>\n",
       "      <td>5625.000000</td>\n",
       "      <td>1.135417</td>\n",
       "    </tr>\n",
       "    <tr>\n",
       "      <th>fence_trap</th>\n",
       "      <td>14</td>\n",
       "      <td>4.884615</td>\n",
       "      <td>3.269231</td>\n",
       "      <td>1.000000</td>\n",
       "      <td>519.230769</td>\n",
       "      <td>1.613553</td>\n",
       "    </tr>\n",
       "    <tr>\n",
       "      <th>gill_net</th>\n",
       "      <td>15</td>\n",
       "      <td>10.964286</td>\n",
       "      <td>4.571429</td>\n",
       "      <td>2.333333</td>\n",
       "      <td>1255.892857</td>\n",
       "      <td>1.354239</td>\n",
       "    </tr>\n",
       "    <tr>\n",
       "      <th>glean</th>\n",
       "      <td>24</td>\n",
       "      <td>3.928261</td>\n",
       "      <td>3.021739</td>\n",
       "      <td>NaN</td>\n",
       "      <td>202.608696</td>\n",
       "      <td>1.354739</td>\n",
       "    </tr>\n",
       "    <tr>\n",
       "      <th>hand_line</th>\n",
       "      <td>12</td>\n",
       "      <td>4.416667</td>\n",
       "      <td>5.083333</td>\n",
       "      <td>NaN</td>\n",
       "      <td>468.366667</td>\n",
       "      <td>1.029861</td>\n",
       "    </tr>\n",
       "    <tr>\n",
       "      <th>shrimp_net</th>\n",
       "      <td>27</td>\n",
       "      <td>2.357609</td>\n",
       "      <td>3.065217</td>\n",
       "      <td>2.000000</td>\n",
       "      <td>289.021739</td>\n",
       "      <td>0.448460</td>\n",
       "    </tr>\n",
       "  </tbody>\n",
       "</table>\n",
       "</div>"
      ],
      "text/plain": [
       "             id  cap_daily_total     hours    persons        value      cpue\n",
       "gear                                                                        \n",
       "basket_trap   2         3.500000  2.250000        NaN   550.000000  1.666667\n",
       "diving        1         6.000000  3.000000        NaN   300.000000  2.000000\n",
       "drag_net      4        57.500000  5.250000  11.500000  5625.000000  1.135417\n",
       "fence_trap   14         4.884615  3.269231   1.000000   519.230769  1.613553\n",
       "gill_net     15        10.964286  4.571429   2.333333  1255.892857  1.354239\n",
       "glean        24         3.928261  3.021739        NaN   202.608696  1.354739\n",
       "hand_line    12         4.416667  5.083333        NaN   468.366667  1.029861\n",
       "shrimp_net   27         2.357609  3.065217   2.000000   289.021739  0.448460"
      ]
     },
     "execution_count": 13,
     "metadata": {},
     "output_type": "execute_result"
    }
   ],
   "source": [
    "df_gear_sum"
   ]
  },
  {
   "cell_type": "code",
   "execution_count": 16,
   "metadata": {},
   "outputs": [],
   "source": [
    "df_prac_sum= df.groupby(['pract_cat']).agg({'id':'count', 'cap_daily_total': 'mean', 'hours':'mean', 'persons':'mean', 'value':'mean','cpue':'mean'})"
   ]
  },
  {
   "cell_type": "code",
   "execution_count": 17,
   "metadata": {},
   "outputs": [
    {
     "data": {
      "text/html": [
       "<div>\n",
       "<style scoped>\n",
       "    .dataframe tbody tr th:only-of-type {\n",
       "        vertical-align: middle;\n",
       "    }\n",
       "\n",
       "    .dataframe tbody tr th {\n",
       "        vertical-align: top;\n",
       "    }\n",
       "\n",
       "    .dataframe thead th {\n",
       "        text-align: right;\n",
       "    }\n",
       "</style>\n",
       "<table border=\"1\" class=\"dataframe\">\n",
       "  <thead>\n",
       "    <tr style=\"text-align: right;\">\n",
       "      <th></th>\n",
       "      <th>id</th>\n",
       "      <th>cap_daily_total</th>\n",
       "      <th>hours</th>\n",
       "      <th>persons</th>\n",
       "      <th>value</th>\n",
       "      <th>cpue</th>\n",
       "    </tr>\n",
       "    <tr>\n",
       "      <th>pract_cat</th>\n",
       "      <th></th>\n",
       "      <th></th>\n",
       "      <th></th>\n",
       "      <th></th>\n",
       "      <th></th>\n",
       "      <th></th>\n",
       "    </tr>\n",
       "  </thead>\n",
       "  <tbody>\n",
       "    <tr>\n",
       "      <th>fish</th>\n",
       "      <td>48</td>\n",
       "      <td>11.152174</td>\n",
       "      <td>4.260870</td>\n",
       "      <td>4.411765</td>\n",
       "      <td>1170.715217</td>\n",
       "      <td>1.351497</td>\n",
       "    </tr>\n",
       "    <tr>\n",
       "      <th>glean</th>\n",
       "      <td>24</td>\n",
       "      <td>3.928261</td>\n",
       "      <td>3.021739</td>\n",
       "      <td>NaN</td>\n",
       "      <td>202.608696</td>\n",
       "      <td>1.354739</td>\n",
       "    </tr>\n",
       "    <tr>\n",
       "      <th>shrimp_net</th>\n",
       "      <td>27</td>\n",
       "      <td>2.357609</td>\n",
       "      <td>3.065217</td>\n",
       "      <td>2.000000</td>\n",
       "      <td>289.021739</td>\n",
       "      <td>0.448460</td>\n",
       "    </tr>\n",
       "  </tbody>\n",
       "</table>\n",
       "</div>"
      ],
      "text/plain": [
       "            id  cap_daily_total     hours   persons        value      cpue\n",
       "pract_cat                                                                 \n",
       "fish        48        11.152174  4.260870  4.411765  1170.715217  1.351497\n",
       "glean       24         3.928261  3.021739       NaN   202.608696  1.354739\n",
       "shrimp_net  27         2.357609  3.065217  2.000000   289.021739  0.448460"
      ]
     },
     "execution_count": 17,
     "metadata": {},
     "output_type": "execute_result"
    }
   ],
   "source": [
    "df_prac_sum"
   ]
  }
 ],
 "metadata": {
  "kernelspec": {
   "display_name": "data_dev",
   "language": "python",
   "name": "python3"
  },
  "language_info": {
   "codemirror_mode": {
    "name": "ipython",
    "version": 3
   },
   "file_extension": ".py",
   "mimetype": "text/x-python",
   "name": "python",
   "nbconvert_exporter": "python",
   "pygments_lexer": "ipython3",
   "version": "3.11.3"
  },
  "orig_nbformat": 4
 },
 "nbformat": 4,
 "nbformat_minor": 2
}
