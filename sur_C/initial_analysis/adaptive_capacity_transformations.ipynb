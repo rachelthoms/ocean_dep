{
 "cells": [
  {
   "cell_type": "markdown",
   "metadata": {},
   "source": [
    "# Transform the Adaptive Capacity Indicators"
   ]
  },
  {
   "cell_type": "markdown",
   "metadata": {},
   "source": [
    "The objective of this notebook is to transform the indicators collected in the Adaptive Capacity Survey (Survey C) to the same scale, [-1, 1]. 1 indicates the a maximal positive contribution to Adaptive Capacity and therefore a negative contribution to Vulnerability, -1 indicates the maximal negative contribution to Adaptive capacity and therefore a positive contribution to Vulnerability. "
   ]
  },
  {
   "cell_type": "code",
   "execution_count": 1,
   "metadata": {},
   "outputs": [],
   "source": [
    "# load packages\n",
    "import pandas as pd\n",
    "import matplotlib.pyplot as plt \n",
    "import numpy as np\n",
    "from zipfile import ZipFile\n",
    "import os\n",
    "import seaborn as sns\n",
    "pd.options.mode.chained_assignment = None"
   ]
  },
  {
   "cell_type": "code",
   "execution_count": 2,
   "metadata": {},
   "outputs": [
    {
     "data": {
      "text/plain": [
       "Index(['Unnamed: 0', 'id', 'date', 'ccp', 'gender', 'age', 'birth_place',\n",
       "       'mar_status', 'ed_level', 'house_head', 'glean', 'electricity',\n",
       "       'fridge_freezer', 'fridge_freezer_num', 'water', 'matress',\n",
       "       'matress_num', 'mobile_phone', 'mobile_phone_num', 'smart_phone',\n",
       "       'smart_phone_num', 'fan', 'fan_num', 'tv', 'tv_num', 'radio',\n",
       "       'radio_num', 'stove', 'stove_num', 'transport', 'transport_num',\n",
       "       'floor', 'floor_other', 'wall', 'wall_other', 'roof', 'roof_other',\n",
       "       'access_credit_loans', 'community_participation', 'ccp_member',\n",
       "       'ccp_participation', 'decision_making_manag', 'decision_making_fish',\n",
       "       'change_seagrass', 'direction_change_seagrass',\n",
       "       'causes_change_seagrass', 'change_fish', 'direction_change_resources',\n",
       "       'causes_change_resources', 'link_seagrass_resources',\n",
       "       'capacity_change_practice', 'capacity_change_livelihood',\n",
       "       'capacity_organize', 'local_knowledge', 'agency_change_seagrass',\n",
       "       'agency_change_seagrass_other', 'agency_change_capture',\n",
       "       'agency_change_capture_other', 'action_seagrass',\n",
       "       'action_seagrass_other', 'human_mang_seagrass', 'action_capture',\n",
       "       'action_capture_other', 'human_mang_capture', 'gear', 'hours',\n",
       "       'cap_daily_total', 'value', 'persons', 'pract_cat', 'cpue'],\n",
       "      dtype='object')"
      ]
     },
     "execution_count": 2,
     "metadata": {},
     "output_type": "execute_result"
    }
   ],
   "source": [
    "# load the survey table\n",
    "df_path = '/home/rthoms/ocean_dep/sur_C/adaptive_cap_clean.csv'\n",
    "df = pd.read_csv(df_path)\n",
    "df.columns"
   ]
  },
  {
   "cell_type": "code",
   "execution_count": null,
   "metadata": {},
   "outputs": [],
   "source": []
  }
 ],
 "metadata": {
  "kernelspec": {
   "display_name": "data_dev",
   "language": "python",
   "name": "python3"
  },
  "language_info": {
   "codemirror_mode": {
    "name": "ipython",
    "version": 3
   },
   "file_extension": ".py",
   "mimetype": "text/x-python",
   "name": "python",
   "nbconvert_exporter": "python",
   "pygments_lexer": "ipython3",
   "version": "3.11.3"
  },
  "orig_nbformat": 4
 },
 "nbformat": 4,
 "nbformat_minor": 2
}
